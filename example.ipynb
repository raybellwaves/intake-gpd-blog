{
 "cells": [
  {
   "cell_type": "code",
   "execution_count": null,
   "metadata": {},
   "outputs": [],
   "source": [
    "import warnings\n",
    "from datetime import datetime\n",
    "\n",
    "import dask_geopandas as dgpd\n",
    "import geopandas as gpd\n",
    "from intake import open_catalog\n",
    "from ruamel.yaml import YAML\n",
    "\n",
    "warnings.filterwarnings(\"ignore\", message=\".*initial implementation of Parquet.*\")"
   ]
  },
  {
   "cell_type": "code",
   "execution_count": null,
   "metadata": {},
   "outputs": [],
   "source": [
    "gpd.read_file(gpd.datasets.get_path(\"naturalearth_lowres\")).to_parquet(\n",
    "    \"naturalearth_lowres.parquet\"\n",
    ")\n",
    "gpd.read_parquet(\"naturalearth_lowres.parquet\")"
   ]
  },
  {
   "cell_type": "code",
   "execution_count": null,
   "metadata": {},
   "outputs": [],
   "source": [
    "d = {\n",
    "    \"metadata\": {\"version\": 1},\n",
    "    \"sources\": {\n",
    "        \"naturalearth_lowres\": {\n",
    "            \"description\": \"Boundaries of countries from Natural Earth\",\n",
    "            \"driver\": \"geoparquet\",\n",
    "            \"args\": {\"urlpath\": \"naturalearth_lowres.parquet\"},\n",
    "        }\n",
    "    },\n",
    "}\n",
    "yaml = YAML()\n",
    "with open(\"cat.yaml\", \"w\") as f:\n",
    "    yaml.dump(d, f)\n",
    "cat = open_catalog(\"cat.yaml\")\n",
    "gdf = cat.naturalearth_lowres.read()\n",
    "gdf"
   ]
  },
  {
   "cell_type": "code",
   "execution_count": null,
   "metadata": {},
   "outputs": [],
   "source": [
    "gdf[\"date\"] = datetime(2022, 1, 1)\n",
    "gdf.to_parquet(\"naturalearth_lowres_2022-01-01.parquet\")\n",
    "gdf[\"date\"] = datetime(2022, 1, 2)\n",
    "gdf.to_parquet(\"naturalearth_lowres_2022-01-02.parquet\")"
   ]
  },
  {
   "cell_type": "code",
   "execution_count": null,
   "metadata": {},
   "outputs": [],
   "source": [
    "!ls naturalearth_lowres_2022-01-*.parquet"
   ]
  },
  {
   "cell_type": "code",
   "execution_count": null,
   "metadata": {},
   "outputs": [],
   "source": [
    "dgpd.read_parquet(\"naturalearth_lowres_2022-01-*.parquet\")"
   ]
  },
  {
   "cell_type": "code",
   "execution_count": null,
   "metadata": {},
   "outputs": [],
   "source": [
    "d = {\n",
    "    \"metadata\": {\"version\": 1},\n",
    "    \"sources\": {\n",
    "        \"naturalearth_lowres\": {\n",
    "            \"description\": \"Boundaries of countries from Natural Earth\",\n",
    "            \"driver\": \"geoparquet\",\n",
    "            \"args\": {\"urlpath\": \"naturalearth_lowres.parquet\"},\n",
    "        },\n",
    "        \"naturalearth_lowres_appended_daily\": {\n",
    "            \"description\": \"Appended daily data of countries from Natural Earth\",\n",
    "            \"driver\": \"geoparquet\",\n",
    "            \"args\": {\"urlpath\": \"naturalearth_lowres_2022-01-*.parquet\"},\n",
    "        },\n",
    "    },\n",
    "}\n",
    "yaml = YAML()\n",
    "with open(\"cat.yaml\", \"w\") as f:\n",
    "    yaml.dump(d, f)\n",
    "cat = open_catalog(\"cat.yaml\")\n",
    "dgdf = cat.naturalearth_lowres_appended_daily.to_dask()\n",
    "dgdf"
   ]
  },
  {
   "cell_type": "code",
   "execution_count": null,
   "metadata": {},
   "outputs": [],
   "source": [
    "d = {\n",
    "    \"metadata\": {\"version\": 1},\n",
    "    \"sources\": {\n",
    "        \"naturalearth_lowres\": {\n",
    "            \"description\": \"Boundaries of countries from Natural Earth\",\n",
    "            \"driver\": \"geoparquet\",\n",
    "            \"args\": {\"urlpath\": \"naturalearth_lowres.parquet\"},\n",
    "        },\n",
    "        \"naturalearth_lowres_daily\": {\n",
    "            \"description\": \"Appended daily data of countries from Natural Earth\",\n",
    "            \"driver\": \"geoparquet\",\n",
    "            \"args\": {\"urlpath\": \"naturalearth_lowres_2022-01-*.parquet\"},\n",
    "        },\n",
    "        \"naturalearth_lowres_by_day\": {\n",
    "            \"description\": \"Daily data of countries from Natural Earth\",\n",
    "            \"driver\": \"pattern_cat\",\n",
    "            \"args\": {\n",
    "                \"driver\": \"geoparquet\",\n",
    "                \"urlpath\": \"naturalearth_lowres_{date:%Y-%m-%d}.parquet\",\n",
    "                \"listable\": False,\n",
    "            },\n",
    "        },\n",
    "    },\n",
    "}\n",
    "yaml = YAML()\n",
    "with open(\"cat.yaml\", \"w\") as f:\n",
    "    yaml.dump(d, f)\n",
    "cat = open_catalog(\"cat.yaml\")\n",
    "cat.naturalearth_lowres_by_day.get_entry(date=datetime(2022, 1, 1)).read()"
   ]
  },
  {
   "cell_type": "code",
   "execution_count": null,
   "metadata": {},
   "outputs": [],
   "source": [
    "cat.naturalearth_lowres_by_day.get_entry(date=datetime(2022, 1, 2)).to_dask()"
   ]
  }
 ],
 "metadata": {
  "kernelspec": {
   "display_name": "Python 3",
   "language": "python",
   "name": "python3"
  },
  "language_info": {
   "codemirror_mode": {
    "name": "ipython",
    "version": 3
   },
   "file_extension": ".py",
   "mimetype": "text/x-python",
   "name": "python",
   "nbconvert_exporter": "python",
   "pygments_lexer": "ipython3",
   "version": "3.8.5"
  }
 },
 "nbformat": 4,
 "nbformat_minor": 4
}
